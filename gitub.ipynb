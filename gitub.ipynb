{
 "cells": [
  {
   "cell_type": "code",
   "execution_count": null,
   "metadata": {},
   "outputs": [],
   "source": [
    "import pyautogui\n",
    "import time\n",
    "pyautogui.press('win')\n",
    "time.sleep(1)\n",
    "pyautogui.write('chrome')\n",
    "time.sleep(1)\n",
    "pyautogui.press('enter')\n",
    "time.sleep(1)\n",
    "pyautogui.hotkey(\"ctrl\",\"t\")\n",
    "time.sleep(1)\n",
    "pyautogui.write('https://github.com/gbborigens')\n",
    "time.sleep(1)\n",
    "pyautogui.press('enter')\n",
    "time.sleep(1)\n",
    "pyautogui.hotkey(\"ctrl\",\"g\")\n",
    "time.sleep(1)\n",
    "pyautogui.write(\"button\")\n",
    "time.sleep(1)\n",
    "pyautogui.press('esc')\n",
    "pyautogui.press('esc')\n",
    "time.sleep(1)\n",
    "pyautogui.hotkey('ctrl','l')\n",
    "time.sleep(1)\n",
    "pyautogui.write('https://github.com/gbborigens/button')\n",
    "pyautogui.press('enter')"
   ]
  }
 ],
 "metadata": {
  "kernelspec": {
   "display_name": "Python 3",
   "language": "python",
   "name": "python3"
  },
  "language_info": {
   "codemirror_mode": {
    "name": "ipython",
    "version": 3
   },
   "file_extension": ".py",
   "mimetype": "text/x-python",
   "name": "python",
   "nbconvert_exporter": "python",
   "pygments_lexer": "ipython3",
   "version": "3.9.13"
  },
  "orig_nbformat": 4
 },
 "nbformat": 4,
 "nbformat_minor": 2
}
